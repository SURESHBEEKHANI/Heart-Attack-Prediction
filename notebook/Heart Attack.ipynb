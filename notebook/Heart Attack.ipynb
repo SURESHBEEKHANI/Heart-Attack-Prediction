{
 "cells": [
  {
   "cell_type": "markdown",
   "metadata": {},
   "source": [
    "# Heart Attack - EDA\n",
    "\n",
    "### Life Cycle of a Machine Learning Project\n",
    "\n",
    "1. **Understanding the Problem Statement**\n",
    "2. **Data Collection**\n",
    "3. **Data Checks to Perform**\n",
    "4. **Exploratory Data Analysis**\n",
    "5. **Data Pre-Processing**\n",
    "6. **Model Training**\n",
    "7. **Choose the Best Model**\n",
    "\n",
    "---\n",
    "\n",
    "### 1) Problem Statement\n",
    "\n",
    "This project aims to understand how heart disease is affected by various medical and lifestyle variables, such as age, sex, cholesterol levels, blood pressure, and heart rate. The goal is to predict the presence of heart disease based on these features.\n",
    "\n",
    "---\n",
    "\n",
    "### 2) Data Collection\n",
    "\n",
    "- **Dataset Source**: [Kaggle Weather Prediction Dataset](https://www.kaggle.com/code/ahmedelsayed198/heart-diseases-detection-using-ml)\n",
    "- The dataset consists of **6 columns** and **1461 rows**.\n",
    "\n",
    "---\n",
    "\n",
    "### 2.1 Import Data and Required Packages\n",
    "\n",
    "In this section, we will import the necessary libraries to analyze the data. The required libraries include:\n",
    "\n",
    "- **Pandas**: For data manipulation and analysis.\n",
    "- **NumPy**: For numerical operations.\n",
    "- **Matplotlib**: For data visualization.\n",
    "- **Seaborn**: For statistical data visualization.\n",
    "- **Warnings Library**: To suppress warnings during the execution of the code.\n",
    "\n",
    "\n"
   ]
  },
  {
   "cell_type": "code",
   "execution_count": 32,
   "metadata": {},
   "outputs": [
    {
     "ename": "",
     "evalue": "",
     "output_type": "error",
     "traceback": [
      "\u001b[1;31mRunning cells with 'venv (Python 3.12.0)' requires the ipykernel package.\n",
      "\u001b[1;31mRun the following command to install 'ipykernel' into the Python environment. \n",
      "\u001b[1;31mCommand: 'conda install -p c:\\Users\\SURESH BEEKHANI\\Desktop\\Heart Attack  Prediction\\venv ipykernel --update-deps --force-reinstall'"
     ]
    }
   ],
   "source": [
    "import numpy as np # type: ignore\n",
    "import pandas as pd # type: ignore\n",
    "import seaborn as sns # type: ignore\n",
    "import matplotlib.pyplot as plt # type: ignore\n",
    "%matplotlib inline\n",
    "import warnings\n",
    "warnings.filterwarnings('ignore')"
   ]
  },
  {
   "cell_type": "markdown",
   "metadata": {},
   "source": [
    "### 2.2 Importing the CSV Data as a Pandas DataFrame\n",
    "\n",
    "After importing the required libraries, the next step is to load the dataset from the CSV file into a Pandas DataFrame. This allows us to easily manipulate and analyze the data.\n",
    "\n",
    "#### Loading the Dataset\n",
    "\n",
    "Make sure you have the CSV file downloaded and accessible in your working directory:"
   ]
  },
  {
   "cell_type": "code",
   "execution_count": 33,
   "metadata": {},
   "outputs": [],
   "source": [
    "df = pd.read_csv('data/heart.csv')"
   ]
  },
  {
   "cell_type": "markdown",
   "metadata": {},
   "source": [
    "### Show Top 5 Records\n"
   ]
  },
  {
   "cell_type": "code",
   "execution_count": null,
   "metadata": {},
   "outputs": [],
   "source": [
    "df.head()"
   ]
  },
  {
   "cell_type": "markdown",
   "metadata": {},
   "source": [
    "### Shape of the dataset"
   ]
  },
  {
   "cell_type": "code",
   "execution_count": null,
   "metadata": {},
   "outputs": [],
   "source": [
    "df.shape"
   ]
  },
  {
   "cell_type": "markdown",
   "metadata": {},
   "source": [
    "# Heart Disease Dataset\n",
    "\n",
    "This dataset contains information about patients that can be used to analyze the presence of heart disease. Below are the details of the dataset:\n",
    "\n",
    "| Age | Sex | ChestPainType | RestingBP | Cholesterol | FastingBS | RestingECG | MaxHR | ExerciseAngina | Oldpeak | ST_Slope | HeartDisease |\n",
    "|-----|-----|---------------|-----------|-------------|-----------|------------|-------|----------------|---------|----------|--------------|\n",
    "| 40  | M   | ATA           | 140       | 289         | 0         | Normal     | 172   | N              | 0.0     | Up       | 0            |\n",
    "| 49  | F   | NAP           | 160       | 180         | 0         | Normal     | 156   | N              | 1.0     | Flat     | 1            |\n",
    "| 37  | M   | ATA           | 130       | 283         | 0         | ST         | 98    | N              | 0.0     | Up       | 0            |\n",
    "| 48  | F   | ASY           | 138       | 214         | 0         | Normal     | 108   | Y              | 1.5     | Flat     | 1            |\n",
    "| 54  | M   | NAP           | 150       | 195         | 0         | Normal     | 122   | N              | 0.0     | Up       | 0            |\n",
    "\n",
    "## Data Columns Description\n",
    "\n",
    "- **Age**: Age of the patient.\n",
    "- **Sex**: Gender of the patient (M = Male, F = Female).\n",
    "- **ChestPainType**: Type of chest pain experienced by the patient (e.g., ATA, NAP, ASY).\n",
    "- **RestingBP**: Resting blood pressure (in mm Hg).\n",
    "- **Cholesterol**: Serum cholesterol in mg/dl.\n",
    "- **FastingBS**: Fasting blood sugar (1 = true; 0 = false).\n",
    "- **RestingECG**: Results of resting electrocardiogram (Normal, ST).\n",
    "- **MaxHR**: Maximum heart rate achieved.\n",
    "- **ExerciseAngina**: Exercise induced angina (Y = Yes, N = No).\n",
    "- **Oldpeak**: ST depression induced by exercise relative to rest.\n",
    "- **ST_Slope**: Slope of the peak exercise ST segment (Up, Flat, Down).\n",
    "- **HeartDisease**: Presence of heart disease (1 = Yes, 0 = No).\n",
    "\n",
    "## Conclusion\n",
    "\n",
    "This dataset can be used for various analyses, including prediction of heart disease based on the features provided.\n"
   ]
  },
  {
   "cell_type": "markdown",
   "metadata": {},
   "source": [
    "### 2.4 Data Checks to Perform\n",
    "\n",
    "After loading the dataset, it’s essential to perform several checks to ensure the data quality. Below are the checks we will conduct:\n",
    "\n",
    "1. **Check Missing Values**\n",
    "2. **Check Duplicates**\n",
    "3. **Check Data Types**\n",
    "4. **Check the Number of Unique Values for Each Column**\n",
    "5. **Check Statistics of the Dataset**\n",
    "6. **Check Various Categories Present in the Different Categorical Columns**\n",
    "\n",
    "#### 1. Check Missing Values\n",
    "We will check for any missing values in the dataset, as they can affect our analysis and model performance."
   ]
  },
  {
   "cell_type": "code",
   "execution_count": null,
   "metadata": {},
   "outputs": [],
   "source": [
    "df.isna().sum()"
   ]
  },
  {
   "cell_type": "code",
   "execution_count": null,
   "metadata": {},
   "outputs": [],
   "source": [
    "# Heatmap for missing data\n",
    "plt.figure(figsize=(10, 4))\n",
    "sns.heatmap(df.isnull(), yticklabels=False, cbar=False, cmap='tab20c_r')\n",
    "plt.title('Missing Data: Dataset')\n",
    "plt.show()"
   ]
  },
  {
   "cell_type": "markdown",
   "metadata": {},
   "source": [
    "**There are no missing values in the data set**"
   ]
  },
  {
   "cell_type": "markdown",
   "metadata": {},
   "source": [
    "### 2. Check Duplicates "
   ]
  },
  {
   "cell_type": "code",
   "execution_count": null,
   "metadata": {},
   "outputs": [],
   "source": [
    "df.duplicated().sum()"
   ]
  },
  {
   "cell_type": "markdown",
   "metadata": {},
   "source": [
    "**There are no duplicates values in the data set**"
   ]
  },
  {
   "cell_type": "markdown",
   "metadata": {},
   "source": [
    "### 3 .Check data types"
   ]
  },
  {
   "cell_type": "code",
   "execution_count": null,
   "metadata": {},
   "outputs": [],
   "source": [
    "df.dtypes"
   ]
  },
  {
   "cell_type": "code",
   "execution_count": null,
   "metadata": {},
   "outputs": [],
   "source": [
    "df.info()"
   ]
  },
  {
   "cell_type": "markdown",
   "metadata": {},
   "source": [
    "### 4. Checking the number of unique values of each column"
   ]
  },
  {
   "cell_type": "code",
   "execution_count": null,
   "metadata": {},
   "outputs": [],
   "source": [
    "df.nunique()"
   ]
  },
  {
   "cell_type": "markdown",
   "metadata": {},
   "source": [
    "### 5. Check statistics of data set"
   ]
  },
  {
   "cell_type": "code",
   "execution_count": null,
   "metadata": {},
   "outputs": [],
   "source": [
    "df.describe()"
   ]
  },
  {
   "cell_type": "code",
   "execution_count": null,
   "metadata": {},
   "outputs": [],
   "source": [
    "df.info()"
   ]
  },
  {
   "cell_type": "markdown",
   "metadata": {},
   "source": [
    "### Printing Unique Categories for Multiple Columns\n",
    "\n",
    "In this section, we will print the unique categories present in several columns of the heart attack dataset. This will help us understand the diversity of the data.\n"
   ]
  },
  {
   "cell_type": "code",
   "execution_count": null,
   "metadata": {},
   "outputs": [],
   "source": [
    "print(\"Unique categories in Heart Attack data:\")\n",
    "\n",
    "# Loop through each specified column to print its unique values\n",
    "for column in ['Sex', 'ChestPainType', 'RestingECG', 'ExerciseAngina', 'ST_Slope']:\n",
    "    # Print the unique categories found in the current colum\n",
    "    print(f\"Categories in column '{column}': {df[column].unique()}\")"
   ]
  },
  {
   "cell_type": "markdown",
   "metadata": {},
   "source": [
    "### 7. Define Numerical and Categorical Columns\n",
    "\n",
    "In this section, we will separate the numerical and categorical features of the dataset. This helps us understand which columns contain numeric data and which ones contain categorical data, making it easier to apply the appropriate transformations later."
   ]
  },
  {
   "cell_type": "code",
   "execution_count": null,
   "metadata": {},
   "outputs": [],
   "source": [
    "# define numerical & categorical columns\n",
    "numeric_features = [feature for feature in df.columns if df[feature].dtype != 'O']\n",
    "categorical_features = [feature for feature in df.columns if df[feature].dtype == 'O']\n",
    "\n",
    "# print columns\n",
    "print('We have {} numerical features : {}'.format(len(numeric_features), numeric_features))\n",
    "print('\\nWe have {} categorical features : {}'.format(len(categorical_features), categorical_features))"
   ]
  },
  {
   "cell_type": "code",
   "execution_count": null,
   "metadata": {},
   "outputs": [],
   "source": [
    "df.head()"
   ]
  },
  {
   "cell_type": "markdown",
   "metadata": {},
   "source": [
    "### Calculating the Averages of  Multiple Columns\n",
    "\n",
    "In this section, we calculate the average values for several numerical columns in the heart disease dataset, including **Age**, **RestingBP**, **Cholesterol**, **FastingBS**, **MaxHR**, **Oldpeak**, and **HeartDisease**.\n"
   ]
  },
  {
   "cell_type": "code",
   "execution_count": null,
   "metadata": {},
   "outputs": [],
   "source": [
    " #Calculate the averages for multiple columns\n",
    "average_values = df[['Age', 'RestingBP', 'Cholesterol', 'FastingBS', 'MaxHR', 'Oldpeak', 'HeartDisease']].mean()\n",
    "\n",
    "# Print the results with column names\n",
    "print(\"Averages of the dataset columns:\")\n",
    "for column, value in average_values.items():\n",
    "    print(f\"Average {column}: {value}\")\n"
   ]
  },
  {
   "cell_type": "markdown",
   "metadata": {},
   "source": [
    "## Visualizing the Distribution of Numerical Columns\n",
    "\n",
    "We will visualize the following columns from the dataset:\n",
    "- **Age**\n",
    "- **RestingBP (Resting Blood Pressure)**\n",
    "- **Cholesterol**\n",
    "- **MaxHR (Maximum Heart Rate)**\n",
    "- **Oldpeak (ST depression induced by exercise)**\n",
    "\n",
    "For each column, we will create histograms along with KDE to better understand the distribution of these numerical variables."
   ]
  },
  {
   "cell_type": "code",
   "execution_count": null,
   "metadata": {},
   "outputs": [],
   "source": [
    "# List of columns to visualize\n",
    "columns_to_visualize = ['Age', 'RestingBP', 'Cholesterol', 'MaxHR', 'Oldpeak']\n",
    "\n",
    "# Set up the figure size for subplots\n",
    "plt.figure(figsize=(15, 10))\n",
    "\n",
    "# Loop through each column and plot its distribution with a histogram and KDE\n",
    "for i, column in enumerate(columns_to_visualize, 1):\n",
    "    plt.subplot(2, 3, i)  # Create subplots (2 rows, 3 columns)\n",
    "    sns.histplot(df[column], kde=True, color='skyblue', edgecolor='black', bins=30)  # Histogram with KDE\n",
    "    plt.title(f'Distribution of {column}', fontsize=14, fontweight='bold')  # Title for each subplot\n",
    "    plt.xlabel(column, fontsize=12)\n",
    "    plt.ylabel('Frequency', fontsize=12)\n",
    "\n",
    "# Adjust layout and show the plot\n",
    "plt.tight_layout(pad=2.0)  # Adjust padding between subplots\n",
    "plt.show()\n"
   ]
  },
  {
   "cell_type": "markdown",
   "metadata": {},
   "source": [
    "### Visualizing the Distribution of Categorical Columns\n",
    "\n",
    "We will visualize the following categorical columns from the dataset:\n",
    "- **Sex**\n",
    "- **ChestPainType**\n",
    "- **RestingECG**\n",
    "- **ExerciseAngina**\n",
    "- **ST_Slope**\n",
    "- **HeartDisease**\n",
    "\n",
    "For each column, we will create count plots to show the number of occurrences of each category.\n"
   ]
  },
  {
   "cell_type": "code",
   "execution_count": null,
   "metadata": {},
   "outputs": [],
   "source": [
    "# List of categorical columns to visualize\n",
    "categorical_columns = ['Sex', 'ChestPainType', 'RestingECG', 'ExerciseAngina', 'ST_Slope', 'HeartDisease']\n",
    "\n",
    "# Set up the figure for subplots\n",
    "plt.figure(figsize=(18, 12))  # Slightly larger figure for better visualization\n",
    "\n",
    "# Loop through each categorical column and plot its distribution\n",
    "for i, column in enumerate(categorical_columns, 1):\n",
    "    plt.subplot(2, 3, i)  # Create subplots (2 rows, 3 columns)\n",
    "    sns.countplot(x=df[column], order=df[column].value_counts().index, palette='Set2', saturation=0.9)  # Using a color palette for better appearance\n",
    "    plt.title(f'Distribution of {column}', fontsize=14, fontweight='bold')  # Title for each subplot\n",
    "    plt.xlabel(column, fontsize=12)  # Label x-axis\n",
    "    plt.ylabel('Count', fontsize=12)  # Label y-axis\n",
    "    plt.xticks(fontsize=11)  # Adjust font size for x-axis labels\n",
    "    plt.yticks(fontsize=11)  # Adjust font size for y-axis labels\n",
    "\n",
    "# Adjust layout and show the plot\n",
    "plt.tight_layout(pad=2.0)  # Adjust padding for better spacing between subplots\n",
    "plt.show()\n"
   ]
  },
  {
   "cell_type": "markdown",
   "metadata": {},
   "source": [
    "### Visualizing the Distribution of Numerical Features Using Violin Plots\n",
    "\n",
    "We will use violin plots to visualize the distribution of **Age**, **Cholesterol**, and **MaxHR** grouped by categorical variables such as **Sex**, **ChestPainType**, and **ExerciseAngina**."
   ]
  },
  {
   "cell_type": "code",
   "execution_count": null,
   "metadata": {},
   "outputs": [],
   "source": [
    "# Set up the figure size for multiple violin plots\n",
    "plt.figure(figsize=(18, 7))\n",
    "\n",
    "# Violin Plot for Age by Sex\n",
    "plt.subplot(131)\n",
    "sns.violinplot(x='Sex', y='Age', data=df, palette='Set2')\n",
    "plt.title('Age Distribution by Sex', fontsize=14, fontweight='bold')\n",
    "plt.xlabel('Sex', fontsize=12)\n",
    "plt.ylabel('Age', fontsize=12)\n",
    "\n",
    "# Violin Plot for Cholesterol by ChestPainType\n",
    "plt.subplot(132)\n",
    "sns.violinplot(x='ChestPainType', y='Cholesterol', data=df, palette='Set3')\n",
    "plt.title('Cholesterol Distribution by Chest Pain Type', fontsize=14, fontweight='bold')\n",
    "plt.xlabel('Chest Pain Type', fontsize=12)\n",
    "plt.ylabel('Cholesterol', fontsize=12)\n",
    "\n",
    "# Violin Plot for MaxHR by ExerciseAngina\n",
    "plt.subplot(133)\n",
    "sns.violinplot(x='ExerciseAngina', y='MaxHR', data=df, palette='Set1')\n",
    "plt.title('MaxHR Distribution by Exercise Angina', fontsize=14, fontweight='bold')\n",
    "plt.xlabel('Exercise Angina', fontsize=12)\n",
    "plt.ylabel('MaxHR', fontsize=12)\n",
    "\n",
    "# Adjust layout and show the plot\n",
    "plt.tight_layout(pad=2.0)  # Adjust padding between subplots for better readability\n",
    "plt.show()\n"
   ]
  },
  {
   "cell_type": "markdown",
   "metadata": {},
   "source": [
    "### Visualizing Heart Disease Data\n",
    "\n",
    "We will create two visualizations for a categorical variable (e.g., **HeartDisease**):\n",
    "1. A **count plot** to show the number of occurrences of each category related to heart disease.\n",
    "2. A **pie chart** to represent the proportion of each category visually."
   ]
  },
  {
   "cell_type": "code",
   "execution_count": null,
   "metadata": {},
   "outputs": [],
   "source": [
    "# Creating a subplot for heart disease condition visualization\n",
    "f, ax = plt.subplots(1, 2, figsize=(20, 10))\n",
    "\n",
    "# Count plot for the 'HeartDisease' variable\n",
    "sns.countplot(x=df['HeartDisease'], data=df, palette=['#3498db', '#e74c3c'], ax=ax[0], saturation=0.9)  # Updated colors\n",
    "for container in ax[0].containers:\n",
    "    ax[0].bar_label(container, color='black', size=14)  # Adding labels to the bars\n",
    "ax[0].set_title('Heart Disease Distribution', fontsize=18, fontweight='bold')  # Title for count plot\n",
    "ax[0].set_xlabel('Heart Disease', fontsize=16)  # X-axis label\n",
    "ax[0].set_ylabel('Count', fontsize=16)  # Y-axis label\n",
    "ax[0].tick_params(axis='x', labelsize=14)  # Set font size for x-axis labels\n",
    "ax[0].tick_params(axis='y', labelsize=14)  # Set font size for y-axis labels\n",
    "\n",
    "# Pie chart for the 'HeartDisease' variable\n",
    "plt.subplot(122)\n",
    "plt.pie(x=df['HeartDisease'].value_counts(), \n",
    "        labels=['No Heart Disease', 'Heart Disease'], \n",
    "        explode=[0, 0.1],  # Highlight the heart disease category\n",
    "        autopct='%1.1f%%', \n",
    "        shadow=True, \n",
    "        colors=['#ff4d4d', '#66b3ff'],  # Different colors for categories\n",
    "        startangle=90, textprops={'fontsize': 14})  # Start angle and text properties\n",
    "plt.title('Proportion of Heart Disease', fontsize=18, fontweight='bold')\n",
    "\n",
    "# Display the plots\n",
    "plt.tight_layout()\n",
    "plt.show()\n"
   ]
  },
  {
   "cell_type": "markdown",
   "metadata": {},
   "source": [
    "### Visualizing Heart Disease Condition and Gender Distribution\n",
    "\n",
    "In this section, we will visualize the distribution of gender and the relationship between sex and heart disease using a count plot and a pie chart."
   ]
  },
  {
   "cell_type": "code",
   "execution_count": null,
   "metadata": {},
   "outputs": [],
   "source": [
    "f, ax = plt.subplots(1, 2, figsize=(20, 10))\n",
    "\n",
    "# Count plot for the 'Sex' variable\n",
    "sns.countplot(x=df['Sex'], data=df, palette=['#3498db', '#e74c3c'], ax=ax[0], saturation=0.9)  # Updated colors\n",
    "for container in ax[0].containers:\n",
    "    ax[0].bar_label(container, color='black', size=14)  # Adding labels to the bars\n",
    "ax[0].set_title('Distribution of Gender', fontsize=18, fontweight='bold')  # Title for count plot\n",
    "ax[0].set_xlabel('Sex', fontsize=16)  # X-axis label\n",
    "ax[0].set_ylabel('Count', fontsize=16)  # Y-axis label\n",
    "ax[0].tick_params(axis='x', labelsize=14)  # Set font size for x-axis labels\n",
    "ax[0].tick_params(axis='y', labelsize=14)  # Set font size for y-axis labels\n",
    "\n",
    "# Pie chart for the 'HeartDisease' variable segmented by 'Sex'\n",
    "heart_disease_counts = df.groupby('Sex')['HeartDisease'].value_counts().unstack()\n",
    "ax[1].pie(heart_disease_counts.values.flatten(), \n",
    "          labels=[f'{sex} - {\"Heart Disease\" if hd else \"No Heart Disease\"}' for sex in heart_disease_counts.index for hd in heart_disease_counts.columns],\n",
    "          explode=[0.1 if hd else 0 for hd in heart_disease_counts.columns for _ in heart_disease_counts.index],  # Highlight heart disease segments\n",
    "          autopct='%1.1f%%', \n",
    "          shadow=True, \n",
    "          colors=['#1abc9c', '#f39c12', '#8e44ad', '#e74c3c'],  # Updated, modern color palette\n",
    "          startangle=90, textprops={'fontsize': 14})  # Start angle and text properties\n",
    "ax[1].set_title('Proportion of Heart Disease by Sex', fontsize=18, fontweight='bold')  # Title for pie chart\n",
    "\n",
    "# Display the plots\n",
    "plt.tight_layout()\n",
    "plt.show()\n"
   ]
  },
  {
   "cell_type": "markdown",
   "metadata": {},
   "source": [
    "# Heart Disease Visualization\n",
    "\n",
    "This notebook section visualizes the distribution of `ChestPainType` and the proportion of heart disease cases based on chest pain types using subplots."
   ]
  },
  {
   "cell_type": "code",
   "execution_count": null,
   "metadata": {},
   "outputs": [],
   "source": [
    "f, ax = plt.subplots(1, 2, figsize=(20, 10))\n",
    "\n",
    "# Count plot for the 'ChestPainType' variable\n",
    "sns.countplot(x=df['ChestPainType'], data=df, palette='Set2', ax=ax[0], saturation=0.95)\n",
    "for container in ax[0].containers:\n",
    "    ax[0].bar_label(container, color='black', size=14)  # Adding labels to the bars\n",
    "ax[0].set_title('Distribution of ChestPainType', fontsize=18, fontweight='bold')  # Title for count plot\n",
    "ax[0].set_xlabel('Chest Pain Type', fontsize=16)  # X-axis label\n",
    "ax[0].set_ylabel('Count', fontsize=16)  # Y-axis label\n",
    "ax[0].tick_params(axis='x', labelsize=14)  # Set font size for x-axis labels\n",
    "ax[0].tick_params(axis='y', labelsize=14)  # Set font size for y-axis labels\n",
    "\n",
    "# Pie chart for the 'HeartDisease' variable segmented by 'ChestPainType'\n",
    "heart_disease_counts = df.groupby('ChestPainType')['HeartDisease'].value_counts().unstack()\n",
    "ax[1].pie(heart_disease_counts.values.flatten(), \n",
    "          labels=[f'{ChestPainType} - {\"Heart Disease\" if hd else \"No Heart Disease\"}' for ChestPainType in heart_disease_counts.index for hd in heart_disease_counts.columns],\n",
    "          explode=[0.1 if hd else 0 for hd in heart_disease_counts.columns for _ in heart_disease_counts.index],  # Highlight heart disease segments\n",
    "          autopct='%1.1f%%', \n",
    "          shadow=True, \n",
    "          colors=['#ff9999', '#66b3ff', '#99ff99', '#ffcc99'],  # Softer, professional color palette\n",
    "          startangle=90, textprops={'fontsize': 14})  # Starting angle and text properties\n",
    "ax[1].set_title('Proportion of Heart Disease by Chest Pain Type', fontsize=18, fontweight='bold')  # Title for pie chart\n",
    "\n",
    "# Display the plots\n",
    "plt.tight_layout()\n",
    "plt.show()\n"
   ]
  },
  {
   "cell_type": "markdown",
   "metadata": {},
   "source": [
    "# Heart Disease Data Visualization\n",
    "\n",
    "In this notebook, we will create subplots to visualize the relationship between the `RestingECG` variable and heart disease conditions in the dataset. We'll use a count plot to show the distribution of the `RestingECG` values and a pie chart to represent the proportions of heart disease cases segmented by `RestingECG`.\n",
    "\n",
    "\n"
   ]
  },
  {
   "cell_type": "code",
   "execution_count": null,
   "metadata": {},
   "outputs": [],
   "source": [
    "# Create the subplots\n",
    "f, ax = plt.subplots(1, 2, figsize=(20, 10))\n",
    "\n",
    "# Count plot for the 'RestingBP' variable\n",
    "sns.countplot(x=df['RestingECG'], data=df, palette='Set2', ax=ax[0], saturation=0.95)\n",
    "for container in ax[0].containers:\n",
    "    ax[0].bar_label(container, color='black', size=14)  # Adding labels to the bars\n",
    "ax[0].set_title('Distribution of RestingECG', fontsize=18, fontweight='bold')  # Title for count plot\n",
    "ax[0].set_xlabel('RestingECG', fontsize=16)  # X-axis label\n",
    "ax[0].set_ylabel('Count', fontsize=16)  # Y-axis label\n",
    "ax[0].tick_params(axis='x', labelsize=14)  # Set font size for x-axis labels\n",
    "ax[0].tick_params(axis='y', labelsize=14)  # Set font size for y-axis labels\n",
    "\n",
    "# Pie chart for 'HeartDisease' proportions segmented by 'RestingBP'\n",
    "heart_disease_counts = df.groupby('RestingECG')['HeartDisease'].value_counts().unstack()\n",
    "\n",
    "# Flatten values correctly and match with the labels\n",
    "values = heart_disease_counts.values.flatten()  # Flatten the values for the pie chart\n",
    "labels = [f'{bp} - {\"Heart Disease\" if hd else \"No Heart Disease\"}'\n",
    "          for bp in heart_disease_counts.index for hd in heart_disease_counts.columns]  # Generating the labels\n",
    "\n",
    "# Ensure valid pie chart input\n",
    "ax[1].pie(values, \n",
    "          labels=labels,\n",
    "          explode=[0.1 if hd else 0 for hd in heart_disease_counts.columns for _ in heart_disease_counts.index],  # Highlight heart disease segments\n",
    "          autopct='%1.1f%%', \n",
    "          shadow=True, \n",
    "          colors=['#ff9999', '#66b3ff', '#99ff99', '#ffcc99'],  # Softer, professional color palette\n",
    "          startangle=90, textprops={'fontsize': 14})  # Starting angle and text properties\n",
    "\n",
    "ax[1].set_title('Proportion of Heart Disease by RestingECG', fontsize=18, fontweight='bold')  # Title for pie chart\n",
    "\n",
    "# Adjust layout and display the plots\n",
    "plt.tight_layout()\n",
    "plt.show()\n"
   ]
  },
  {
   "cell_type": "markdown",
   "metadata": {},
   "source": [
    "# Exercise Angina Visualization\n",
    "\n",
    "This section visualizes the distribution of `ExerciseAngina` and the proportion of heart disease cases based on exercise angina status using subplots.\n"
   ]
  },
  {
   "cell_type": "code",
   "execution_count": null,
   "metadata": {},
   "outputs": [],
   "source": [
    "# Create subplots for visualizing Exercise Angina and Heart Disease proportions\n",
    "f, ax = plt.subplots(1, 2, figsize=(20, 10))\n",
    "\n",
    "# Count plot for the 'ExerciseAngina' variable\n",
    "sns.countplot(x=df['ExerciseAngina'], data=df, palette='Set2', ax=ax[0], saturation=0.95)\n",
    "for container in ax[0].containers:\n",
    "    ax[0].bar_label(container, color='black', size=14)  # Adding labels to the bars\n",
    "ax[0].set_title('Distribution of Exercise Angina', fontsize=18, fontweight='bold')  # Title for count plot\n",
    "ax[0].set_xlabel('Exercise Angina', fontsize=16)  # X-axis label\n",
    "ax[0].set_ylabel('Count', fontsize=16)  # Y-axis label\n",
    "ax[0].tick_params(axis='x', labelsize=14)  # Set font size for x-axis labels\n",
    "ax[0].tick_params(axis='y', labelsize=14)  # Set font size for y-axis labels\n",
    "\n",
    "# Pie chart for the 'HeartDisease' variable segmented by 'ExerciseAngina'\n",
    "heart_disease_counts = df.groupby('ExerciseAngina')['HeartDisease'].value_counts().unstack()\n",
    "\n",
    "# Prepare labels for the pie chart\n",
    "labels = [f'{angina} - {\"Heart Disease\" if hd else \"No Heart Disease\"}' \n",
    "          for angina in heart_disease_counts.index \n",
    "          for hd in heart_disease_counts.columns]\n",
    "\n",
    "# Flatten values for the pie chart\n",
    "values = heart_disease_counts.values.flatten()  \n",
    "\n",
    "# Pie chart\n",
    "ax[1].pie(values, \n",
    "           labels=labels,\n",
    "           explode=[0.1 if hd else 0 for hd in heart_disease_counts.columns for _ in heart_disease_counts.index],  # Highlight heart disease segments\n",
    "           autopct='%1.1f%%', \n",
    "           shadow=True, \n",
    "           colors=['#ff9999', '#66b3ff', '#99ff99', '#ffcc99'],  # Softer, professional color palette\n",
    "           startangle=90, textprops={'fontsize': 14})  # Starting angle and text properties\n",
    "\n",
    "ax[1].set_title('Proportion of Heart Disease by Exercise Angina', fontsize=18, fontweight='bold')  # Title for pie chart\n",
    "\n",
    "# Adjust layout and display the plots\n",
    "plt.tight_layout()\n",
    "plt.show()"
   ]
  },
  {
   "cell_type": "markdown",
   "metadata": {},
   "source": [
    "# Visualization of ST Slope and Heart Disease Proportions\n",
    "\n",
    "This section creates subplots to visualize the distribution of `ST Slope` and the proportions of heart disease based on `ST Slope`.\n"
   ]
  },
  {
   "cell_type": "code",
   "execution_count": null,
   "metadata": {},
   "outputs": [],
   "source": [
    "# Create subplots for visualizing ST Slope and Heart Disease proportions\n",
    "f, ax = plt.subplots(1, 2, figsize=(20, 10))\n",
    "\n",
    "# Count plot for the 'ST_Slope' variable\n",
    "sns.countplot(x=df['ST_Slope'], data=df, palette='Set2', ax=ax[0], saturation=0.95)\n",
    "for container in ax[0].containers:\n",
    "    ax[0].bar_label(container, color='black', size=14)  # Adding labels to the bars\n",
    "\n",
    "ax[0].set_title('Distribution of ST Slope', fontsize=18, fontweight='bold')  # Title for count plot\n",
    "ax[0].set_xlabel('ST Slope', fontsize=16)  # X-axis label\n",
    "ax[0].set_ylabel('Count', fontsize=16)  # Y-axis label\n",
    "ax[0].tick_params(axis='x', labelsize=14)  # Set font size for x-axis labels\n",
    "ax[0].tick_params(axis='y', labelsize=14)  # Set font size for y-axis labels\n",
    "\n",
    "# Pie chart for the 'HeartDisease' variable segmented by 'ST Slope'\n",
    "heart_disease_counts = df.groupby('ST_Slope')['HeartDisease'].value_counts().unstack()\n",
    "\n",
    "# Prepare labels for the pie chart\n",
    "labels = [f'{slope} - {\"Heart Disease\" if hd else \"No Heart Disease\"}' \n",
    "          for slope in heart_disease_counts.index \n",
    "          for hd in heart_disease_counts.columns]\n",
    "\n",
    "# Flatten values for the pie chart\n",
    "values = heart_disease_counts.values.flatten()  \n",
    "\n",
    "# Create pie chart\n",
    "ax[1].pie(values, \n",
    "           labels=labels,\n",
    "           explode=[0.1 if hd else 0 for hd in heart_disease_counts.columns for _ in heart_disease_counts.index],  # Highlight heart disease segments\n",
    "           autopct='%1.1f%%', \n",
    "           shadow=True, \n",
    "           colors=['#ff9999', '#66b3ff', '#99ff99', '#ffcc99'],  # Softer, professional color palette\n",
    "           startangle=90, textprops={'fontsize': 14})  # Starting angle and text properties\n",
    "\n",
    "ax[1].set_title('Proportion of Heart Disease by ST Slope', fontsize=16, fontweight='bold')  # Title for pie chart\n",
    "\n",
    "# Adjust layout and display the plots\n",
    "plt.tight_layout()\n",
    "plt.show()"
   ]
  },
  {
   "cell_type": "markdown",
   "metadata": {},
   "source": [
    "df.info()"
   ]
  },
  {
   "cell_type": "code",
   "execution_count": null,
   "metadata": {},
   "outputs": [],
   "source": [
    "df.info()"
   ]
  },
  {
   "cell_type": "markdown",
   "metadata": {},
   "source": [
    "# Grouping the DataFrame by 'HeartDisease' and Calculating the Mean of Numeric Columns\n",
    "\n",
    "In this section, we group the DataFrame by the **HeartDisease** variable, which is a categorical variable indicating the presence or absence of heart disease. The goal is to calculate the mean of all numeric columns (e.g., temperature, wind speed, precipitation) for each category of heart disease.\n",
    "\n",
    "The `.mean(numeric_only=True)` method ensures that only numeric columns are included in the calculation of the mean.\n"
   ]
  },
  {
   "cell_type": "code",
   "execution_count": null,
   "metadata": {},
   "outputs": [],
   "source": [
    "# Grouping the DataFrame by 'weather' and calculating the mean of only numeric columns\n",
    "# 'weather' is the categorical variable representing different weather conditions (e.g., drizzle, rain, sun)\n",
    "# The .mean(numeric_only=True) ensures that only the numeric columns are included in the calculation of the mean\n",
    "\n",
    "gender_group = df.groupby('HeartDisease').mean(numeric_only=True)\n",
    "\n",
    "# Display the result\n",
    "# The result will show the average values of all numeric columns (e.g., temp, wind, precipitation) for each weather condition.\n",
    "gender_group\n"
   ]
  },
  {
   "cell_type": "markdown",
   "metadata": {},
   "source": [
    "## Weather Data Analysis\n",
    "\n",
    "This section of the analysis focuses on visualizing the relationship between different weather conditions and their corresponding average temperature, wind speed, and precipitation levels.\n",
    "\n",
    "### Required Libraries\n",
    "\n",
    "We will use the following libraries for data manipulation and visualization:\n",
    "- **Pandas**: For data handling and manipulation.\n",
    "- **Seaborn**: For creating informative statistical graphics.\n",
    "- **Matplotlib**: For generating plots and charts.\n"
   ]
  },
  {
   "cell_type": "code",
   "execution_count": null,
   "metadata": {},
   "outputs": [],
   "source": [
    "df.info()"
   ]
  },
  {
   "cell_type": "markdown",
   "metadata": {},
   "source": [
    "# Visualization of Heart Disease Data\n",
    "\n",
    "This notebook visualizes various health metrics related to heart disease. We will analyze the average values of the following attributes grouped by `HeartDisease`:\n",
    "\n",
    "- Age\n",
    "- Resting Blood Pressure (RestingBP)\n",
    "- Cholesterol\n",
    "- Fasting Blood Sugar (FastingBS)\n",
    "- Maximum Heart Rate (MaxHR)\n",
    "- Oldpeak (depression induced by exercise relative to rest)\n",
    "\n"
   ]
  },
  {
   "cell_type": "code",
   "execution_count": null,
   "metadata": {},
   "outputs": [],
   "source": [
    "import pandas as pd # type: ignore\n",
    "import seaborn as sns # type: ignore\n",
    "import matplotlib.pyplot as plt # type: ignore\n",
    "\n",
    "# Assuming df is already defined and contains the necessary data\n",
    "# Group the data by HeartDisease\n",
    "group_data = df.groupby('HeartDisease')\n",
    "\n",
    "# Set up subplots for Age, Resting Blood Pressure, Cholesterol, Fasting Blood Sugar, MaxHR, and Oldpeak\n",
    "fig, ax = plt.subplots(1, 6, figsize=(42, 8))  # Create a figure with 1 row and 6 columns of subplots\n",
    "\n",
    "# Average Age plot\n",
    "sns.barplot(\n",
    "    x=group_data['Age'].mean().index,  # X-axis: Heart Disease categories\n",
    "    y=group_data['Age'].mean().values,  # Y-axis: Average age for each category\n",
    "    palette='mako',  # Color palette for the bars\n",
    "    ax=ax[0]  # Assign to the first subplot\n",
    ")\n",
    "ax[0].set_title('Average Age', color='#005ce6', size=20)  # Set title for the Age plot\n",
    "for container in ax[0].containers:\n",
    "    ax[0].bar_label(container, color='black', size=15)  # Annotate bars with their values\n",
    "\n",
    "# Average Resting Blood Pressure plot\n",
    "sns.barplot(\n",
    "    x=group_data['RestingBP'].mean().index,  # X-axis: Heart Disease categories\n",
    "    y=group_data['RestingBP'].mean().values,  # Y-axis: Average RestingBP for each category\n",
    "    palette='flare',  # Color palette for the bars\n",
    "    ax=ax[1]  # Assign to the second subplot\n",
    ")\n",
    "ax[1].set_title('Average Resting BP', color='#005ce6', size=20)  # Set title for the Resting BP plot\n",
    "for container in ax[1].containers:\n",
    "    ax[1].bar_label(container, color='black', size=15)  # Annotate bars with their values\n",
    "\n",
    "# Average Cholesterol plot\n",
    "sns.barplot(\n",
    "    x=group_data['Cholesterol'].mean().index,  # X-axis: Heart Disease categories\n",
    "    y=group_data['Cholesterol'].mean().values,  # Y-axis: Average Cholesterol for each category\n",
    "    palette='coolwarm',  # Color palette for the bars\n",
    "    ax=ax[2]  # Assign to the third subplot\n",
    ")\n",
    "ax[2].set_title('Average Cholesterol', color='#005ce6', size=20)  # Set title for the Cholesterol plot\n",
    "for container in ax[2].containers:\n",
    "    ax[2].bar_label(container, color='black', size=15)  # Annotate bars with their values\n",
    "\n",
    "# Average Fasting Blood Sugar plot\n",
    "sns.barplot(\n",
    "    x=group_data['FastingBS'].mean().index,  # X-axis: Heart Disease categories\n",
    "    y=group_data['FastingBS'].mean().values,  # Y-axis: Average FastingBS for each category\n",
    "    palette='viridis',  # Color palette for the bars\n",
    "    ax=ax[3]  # Assign to the fourth subplot\n",
    ")\n",
    "ax[3].set_title('Average Fasting BS', color='#005ce6', size=20)  # Set title for the Fasting BS plot\n",
    "for container in ax[3].containers:\n",
    "    ax[3].bar_label(container, color='black', size=15)  # Annotate bars with their values\n",
    "\n",
    "# Average MaxHR plot\n",
    "sns.barplot(\n",
    "    x=group_data['MaxHR'].mean().index,  # X-axis: Heart Disease categories\n",
    "    y=group_data['MaxHR'].mean().values,  # Y-axis: Average MaxHR for each category\n",
    "    palette='plasma',  # Color palette for the bars\n",
    "    ax=ax[4]  # Assign to the fifth subplot\n",
    ")\n",
    "ax[4].set_title('Average MaxHR', color='#005ce6', size=20)  # Set title for the MaxHR plot\n",
    "for container in ax[4].containers:\n",
    "    ax[4].bar_label(container, color='black', size=15)  # Annotate bars with their values\n",
    "\n",
    "# Average Oldpeak plot\n",
    "sns.barplot(\n",
    "    x=group_data['Oldpeak'].mean().index,  # X-axis: Heart Disease categories\n",
    "    y=group_data['Oldpeak'].mean().values,  # Y-axis: Average Oldpeak for each category\n",
    "    palette='magma',  # Color palette for the bars\n",
    "    ax=ax[5]  # Assign to the sixth subplot\n",
    ")\n",
    "ax[5].set_title('Average Oldpeak', color='#005ce6', size=20)  # Set title for the Oldpeak plot\n",
    "for container in ax[5].containers:\n",
    "    ax[5].bar_label(container, color='black', size=15)  # Annotate bars with their values\n",
    "\n",
    "# Adjust layout to prevent overlap\n",
    "plt.tight_layout()\n",
    "\n",
    "# Show the plots\n",
    "plt.show()\n"
   ]
  },
  {
   "cell_type": "code",
   "execution_count": null,
   "metadata": {},
   "outputs": [],
   "source": [
    "import matplotlib.pyplot as plt # type: ignore\n",
    "import seaborn as sns # type: ignore\n",
    "\n",
    "# Set the figure size and style for the plot\n",
    "plt.rcParams['figure.figsize'] = (15, 9)  # Set the default figure size for all plots\n",
    "plt.style.use('fivethirtyeight')  # Use the 'fivethirtyeight' style for a clean look\n",
    "\n",
    "# Create a countplot for the 'HeartDisease' variable to visualize its distribution\n",
    "ax = sns.countplot(x='HeartDisease', data=df, palette='pastel')  # Count occurrences of each heart disease condition\n",
    "\n",
    "# Set the title and labels for the plot\n",
    "plt.title('Comparison of Heart Disease Conditions', fontweight='bold', fontsize=20)  # Title with bold font\n",
    "plt.xlabel('Heart Disease Status')  # X-axis label\n",
    "plt.ylabel('Count')  # Y-axis label\n",
    "\n",
    "# Adding labels to the bars\n",
    "for container in ax.containers:\n",
    "    ax.bar_label(container, fmt='%d', color='black', fontsize=12)  # Annotate bars with their values\n",
    "\n",
    "# Display the plot\n",
    "plt.show()  # Show the plot\n"
   ]
  }
 ],
 "metadata": {
  "kernelspec": {
   "display_name": "Python 3",
   "language": "python",
   "name": "python3"
  },
  "language_info": {
   "codemirror_mode": {
    "name": "ipython",
    "version": 3
   },
   "file_extension": ".py",
   "mimetype": "text/x-python",
   "name": "python",
   "nbconvert_exporter": "python",
   "pygments_lexer": "ipython3",
   "version": "3.12.0"
  }
 },
 "nbformat": 4,
 "nbformat_minor": 2
}
